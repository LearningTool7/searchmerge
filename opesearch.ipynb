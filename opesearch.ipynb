{
 "cells": [
  {
   "cell_type": "code",
   "execution_count": 2,
   "metadata": {},
   "outputs": [],
   "source": [
    "import re\n",
    "import pandas as pd"
   ]
  },
  {
   "cell_type": "code",
   "execution_count": 3,
   "metadata": {},
   "outputs": [],
   "source": [
    "spar = pd.read_csv(r'Data\\spar\\SparMainTable.csv')\n",
    "pnp = pd.read_csv(r'Data\\pnp\\PnpMainTable.csv')\n",
    "makro = pd.read_csv(r'Data\\makro\\MakroMainTable.csv')\n",
    "game = pd.read_csv(r'Data\\game\\GameMainTable.csv')"
   ]
  },
  {
   "cell_type": "code",
   "execution_count": 4,
   "metadata": {},
   "outputs": [],
   "source": [
    "prod_name_list = pnp['Product Name'].tolist()"
   ]
  },
  {
   "cell_type": "code",
   "execution_count": null,
   "metadata": {},
   "outputs": [],
   "source": [
    "store_name = input(\"Please enter store name:\")\n",
    "product_name = input(\"Please enter product name:\")\n",
    "\n",
    "searching_product_list_of_prods(product_name, store_name)"
   ]
  }
 ],
 "metadata": {
  "interpreter": {
   "hash": "60ae6296e89b30bb00a8bcefbaef9beb00bbae49218922c8001f36f76474834a"
  },
  "kernelspec": {
   "display_name": "Python 3.10.0 64-bit",
   "language": "python",
   "name": "python3"
  },
  "language_info": {
   "codemirror_mode": {
    "name": "ipython",
    "version": 3
   },
   "file_extension": ".py",
   "mimetype": "text/x-python",
   "name": "python",
   "nbconvert_exporter": "python",
   "pygments_lexer": "ipython3",
   "version": "3.9.7"
  },
  "orig_nbformat": 4
 },
 "nbformat": 4,
 "nbformat_minor": 2
}
